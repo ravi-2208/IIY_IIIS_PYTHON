{
  "nbformat": 4,
  "nbformat_minor": 0,
  "metadata": {
    "colab": {
      "provenance": [],
      "authorship_tag": "ABX9TyPXpa4QcUg+ApIlHRiSOytL",
      "include_colab_link": true
    },
    "kernelspec": {
      "name": "python3",
      "display_name": "Python 3"
    },
    "language_info": {
      "name": "python"
    }
  },
  "cells": [
    {
      "cell_type": "markdown",
      "metadata": {
        "id": "view-in-github",
        "colab_type": "text"
      },
      "source": [
        "<a href=\"https://colab.research.google.com/github/kamathamashok3-ship-it/IIY_IIIS_PYTHON/blob/main/2_1.ipynb\" target=\"_parent\"><img src=\"https://colab.research.google.com/assets/colab-badge.svg\" alt=\"Open In Colab\"/></a>"
      ]
    },
    {
      "cell_type": "code",
      "execution_count": 4,
      "metadata": {
        "colab": {
          "base_uri": "https://localhost:8080/"
        },
        "id": "P0QUk1bRADHV",
        "outputId": "879e3a74-f16b-432f-fa6d-de9bc602cab6"
      },
      "outputs": [
        {
          "output_type": "stream",
          "name": "stdout",
          "text": [
            "The 2021 Toyota Camry is starting.\n",
            "The 2021 Toyota Camry is stopping.\n"
          ]
        }
      ],
      "source": [
        "class Car:\n",
        "    def __init__(self, make, model, year):\n",
        "        self.make = make\n",
        "        self.model = model\n",
        "        self.year = year\n",
        "        self.is_running = False\n",
        "\n",
        "    def start(self):\n",
        "        if not self.is_running:\n",
        "            self.is_running = True\n",
        "            print(f\"The {self.year} {self.make} {self.model} is starting.\")\n",
        "        else:\n",
        "            print(f\"The {self.year} {self.make} {self.model} is already running.\")\n",
        "\n",
        "    def stop(self):\n",
        "        if self.is_running:\n",
        "            self.is_running = False\n",
        "            print(f\"The {self.year} {self.make} {self.model} is stopping.\")\n",
        "        else:\n",
        "            print(f\"The {self.year} {self.make} {self.model} is already stopped.\")\n",
        "\n",
        "\n",
        "# Example usage:\n",
        "my_car = Car(\"Toyota\", \"Camry\", 2021)\n",
        "my_car.start()  # The 2021 Toyota Camry is starting.\n",
        "my_car.stop()   # The 2021 Toyota Camry is stopping.\n"
      ]
    }
  ]
}