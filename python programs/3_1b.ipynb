{
  "nbformat": 4,
  "nbformat_minor": 0,
  "metadata": {
    "colab": {
      "provenance": [],
      "authorship_tag": "ABX9TyN2aiA/Q89Rr34Zs2jYTQAO",
      "include_colab_link": true
    },
    "kernelspec": {
      "name": "python3",
      "display_name": "Python 3"
    },
    "language_info": {
      "name": "python"
    }
  },
  "cells": [
    {
      "cell_type": "markdown",
      "metadata": {
        "id": "view-in-github",
        "colab_type": "text"
      },
      "source": [
        "<a href=\"https://colab.research.google.com/github/kamathamashok3-ship-it/IIY_IIIS_PYTHON/blob/main/3_1b.ipynb\" target=\"_parent\"><img src=\"https://colab.research.google.com/assets/colab-badge.svg\" alt=\"Open In Colab\"/></a>"
      ]
    },
    {
      "cell_type": "code",
      "execution_count": 5,
      "metadata": {
        "colab": {
          "base_uri": "https://localhost:8080/"
        },
        "id": "ryRSur1YT04S",
        "outputId": "3ed5cd49-e622-468b-d355-392c935284ae"
      },
      "outputs": [
        {
          "output_type": "stream",
          "name": "stdout",
          "text": [
            "\n",
            "Testing if none of the elements are zero:\n",
            "Array [1 2 3 4 5]: True\n",
            "Array [1 0 3 4 5]: False\n"
          ]
        }
      ],
      "source": [
        "import numpy as np\n",
        "# b. To test whether none of the elements of a given array is zero.\n",
        "arr_nonzero = np.array([1, 2, 3, 4, 5])\n",
        "arr_with_zero = np.array([1, 0, 3, 4, 5])\n",
        "print(\"\\nTesting if none of the elements are zero:\")\n",
        "print(f\"Array {arr_nonzero}: {np.all(arr_nonzero)}\")\n",
        "print(f\"Array {arr_with_zero}: {np.all(arr_with_zero)}\")\n",
        "\n",
        "\n"
      ]
    }
  ]
}