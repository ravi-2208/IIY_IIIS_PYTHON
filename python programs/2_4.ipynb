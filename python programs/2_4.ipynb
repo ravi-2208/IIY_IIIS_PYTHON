{
  "nbformat": 4,
  "nbformat_minor": 0,
  "metadata": {
    "colab": {
      "provenance": [],
      "authorship_tag": "ABX9TyMg/O+wIa1OvL+GAPT03hdI",
      "include_colab_link": true
    },
    "kernelspec": {
      "name": "python3",
      "display_name": "Python 3"
    },
    "language_info": {
      "name": "python"
    }
  },
  "cells": [
    {
      "cell_type": "markdown",
      "metadata": {
        "id": "view-in-github",
        "colab_type": "text"
      },
      "source": [
        "<a href=\"https://colab.research.google.com/github/kamathamashok3-ship-it/IIY_IIIS_PYTHON/blob/main/2_4.ipynb\" target=\"_parent\"><img src=\"https://colab.research.google.com/assets/colab-badge.svg\" alt=\"Open In Colab\"/></a>"
      ]
    },
    {
      "cell_type": "code",
      "execution_count": 1,
      "metadata": {
        "colab": {
          "base_uri": "https://localhost:8080/"
        },
        "id": "qu8enTwFOCRE",
        "outputId": "0eeadd25-a380-4325-b531-8d8555c85856"
      },
      "outputs": [
        {
          "output_type": "stream",
          "name": "stdout",
          "text": [
            "\n",
            "--- Error Handling Demonstration ---\n",
            "The result of 10 / 2 is: 5.0\n",
            "Error: Cannot divide by zero! Attempted 10 / 0\n",
            "Error: Invalid input types. Please provide numbers.\n"
          ]
        }
      ],
      "source": [
        "def safe_divide(numerator, denominator):\n",
        "    try:\n",
        "        # Try to divide\n",
        "        result = numerator / denominator\n",
        "        print(f\"The result of {numerator} / {denominator} is: {result}\")\n",
        "    except ZeroDivisionError:\n",
        "        # Handle division by zero\n",
        "        print(f\"Error: Cannot divide by zero! Attempted {numerator} / {denominator}\")\n",
        "    except TypeError:\n",
        "        # Handle wrong data types (e.g., string)\n",
        "        print(\"Error: Invalid input types. Please provide numbers.\")\n",
        "    except Exception as e:\n",
        "        # Handle any other unexpected error\n",
        "        print(f\"An unexpected error occurred: {e}\")\n",
        "# Demonstrating error handling\n",
        "print(\"\\n--- Error Handling Demonstration ---\")\n",
        "safe_divide(10, 2)       # Correct\n",
        "safe_divide(10, 0)       # Division by zero\n",
        "safe_divide(5, \"abc\")    # Type error"
      ]
    }
  ]
}