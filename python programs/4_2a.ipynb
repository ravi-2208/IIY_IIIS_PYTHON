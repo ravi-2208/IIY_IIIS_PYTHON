{
  "nbformat": 4,
  "nbformat_minor": 0,
  "metadata": {
    "colab": {
      "provenance": [],
      "authorship_tag": "ABX9TyPkD4ZSWkpUX3fwESaLcGFV",
      "include_colab_link": true
    },
    "kernelspec": {
      "name": "python3",
      "display_name": "Python 3"
    },
    "language_info": {
      "name": "python"
    }
  },
  "cells": [
    {
      "cell_type": "markdown",
      "metadata": {
        "id": "view-in-github",
        "colab_type": "text"
      },
      "source": [
        "<a href=\"https://colab.research.google.com/github/kamathamashok3-ship-it/IIY_IIIS_PYTHON/blob/main/4_2a.ipynb\" target=\"_parent\"><img src=\"https://colab.research.google.com/assets/colab-badge.svg\" alt=\"Open In Colab\"/></a>"
      ]
    },
    {
      "cell_type": "code",
      "execution_count": 3,
      "metadata": {
        "colab": {
          "base_uri": "https://localhost:8080/"
        },
        "id": "qgOFvY-JXq3J",
        "outputId": "51771e38-e0f1-4e69-c4b5-9c3555c8214c"
      },
      "outputs": [
        {
          "output_type": "stream",
          "name": "stdout",
          "text": [
            "Updated DataFrame with new column:\n",
            "        name  score  attempts qualify grade\n",
            "a  Anastasia   12.5         1     yes     A\n",
            "b       Dima    9.0         3      no     C\n",
            "c  Katherine   16.5         2     yes     B\n",
            "d     Suresh    NaN         3      no     B\n",
            "e      Emily    9.0         2      no     C\n",
            "f    Michael   20.0         3     yes     A\n",
            "g    Matthew   14.5         3     yes     B\n",
            "h      Laura    NaN         1      no     C\n",
            "i      Kevin    8.0         2      no     D\n",
            "j      Jonas   19.0         1     yes     A\n",
            "\n",
            "List of column headers:\n",
            "['name', 'score', 'attempts', 'qualify', 'grade']\n"
          ]
        }
      ],
      "source": [
        " import pandas as pd\n",
        " import numpy as np\n",
        " # Sample dictionary data\n",
        " exam_data = {\n",
        " 'name': ['Anastasia', 'Dima', 'Katherine', 'Suresh', 'Emily', 'Michael',\n",
        " 'Matthew', 'Laura', 'Kevin', 'Jonas'],\n",
        " 'score': [12.5, 9, 16.5, np.nan, 9, 20, 14.5, np.nan, 8, 19],\n",
        " 'attempts': [1, 3, 2, 3, 2, 3, 3, 1, 2, 1],\n",
        " 'qualify': ['yes', 'no', 'yes', 'no', 'no', 'yes', 'yes', 'no', 'no', 'yes']\n",
        " }\n",
        " labels = ['a','b','c','d','e','f','g','h','i','j']\n",
        " # Create DataFrame\n",
        " df = pd.DataFrame(exam_data, index=labels)\n",
        " # i) Insert a new column 'grade'\n",
        " df['grade'] = ['A', 'C', 'B', 'B', 'C', 'A', 'B', 'C', 'D', 'A']\n",
        " # ii) Get list of column headers\n",
        " columns_list = df.columns.tolist()\n",
        " # Display updated DataFrame and column headers list\n",
        " print(\"Updated DataFrame with new column:\")\n",
        " print(df)\n",
        " print(\"\\nList of column headers:\")\n",
        " print(columns_list)"
      ]
    }
  ]
}