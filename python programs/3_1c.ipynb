{
  "nbformat": 4,
  "nbformat_minor": 0,
  "metadata": {
    "colab": {
      "provenance": [],
      "authorship_tag": "ABX9TyNPPyNtlrCIVGKffJa9n7Qj",
      "include_colab_link": true
    },
    "kernelspec": {
      "name": "python3",
      "display_name": "Python 3"
    },
    "language_info": {
      "name": "python"
    }
  },
  "cells": [
    {
      "cell_type": "markdown",
      "metadata": {
        "id": "view-in-github",
        "colab_type": "text"
      },
      "source": [
        "<a href=\"https://colab.research.google.com/github/kamathamashok3-ship-it/IIY_IIIS_PYTHON/blob/main/3_1c.ipynb\" target=\"_parent\"><img src=\"https://colab.research.google.com/assets/colab-badge.svg\" alt=\"Open In Colab\"/></a>"
      ]
    },
    {
      "cell_type": "code",
      "execution_count": 1,
      "metadata": {
        "colab": {
          "base_uri": "https://localhost:8080/"
        },
        "id": "ZXVc6_UtU4Rx",
        "outputId": "a2363b6d-731f-4e3c-a12f-a58db9ce542d"
      },
      "outputs": [
        {
          "output_type": "stream",
          "name": "stdout",
          "text": [
            "\n",
            "Element-wise comparisons:\n",
            "Array 1: [1 5 3 7 9]\n",
            "Array 2: [2. 5. 2. 8. 9.]\n",
            "Greater (array1 > array2): [False False  True False False]\n",
            "Greater Equal (array1 >= array2): [False  True  True False False]\n",
            "Less (array1 < array2): [ True False False  True  True]\n",
            "Less Equal (array1 <= array2): [ True  True False  True  True]\n",
            "Equal (array1 == array2): [False  True False False False]\n",
            "Allclose (array1, array2, rtol=1e-05, atol=1e-08): False\n",
            "\n",
            "Demonstrating other functions:\n",
            "Zeros array: [0. 0. 0. 0. 0.]\n",
            "Ones array:\n",
            "[[1. 1. 1.]\n",
            " [1. 1. 1.]]\n",
            "Linspace array (0 to 10, 5 elements): [ 0.   2.5  5.   7.5 10. ]\n",
            "List from linspace array: [0.0, 2.5, 5.0, 7.5, 10.0]\n"
          ]
        }
      ],
      "source": [
        "import numpy as np\n",
        "# c. To create an element-wise comparison (greater, greater_equal, less and less_equal, equal, equal within a tolerance) of two given arrays.\n",
        "array1 = np.array([1, 5, 3, 7, 9])\n",
        "array2 = np.array([2, 5, 2, 8, 9.000000000000001]) # Slightly different for allclose\n",
        "\n",
        "print(\"\\nElement-wise comparisons:\")\n",
        "print(f\"Array 1: {array1}\")\n",
        "print(f\"Array 2: {array2}\")\n",
        "\n",
        "print(f\"Greater (array1 > array2): {np.greater(array1, array2)}\")\n",
        "print(f\"Greater Equal (array1 >= array2): {np.greater_equal(array1, array2)}\")\n",
        "print(f\"Less (array1 < array2): {np.less(array1, array2)}\")\n",
        "print(f\"Less Equal (array1 <= array2): {np.less_equal(array1, array2)}\")\n",
        "print(f\"Equal (array1 == array2): {np.equal(array1, array2)}\")\n",
        "print(f\"Allclose (array1, array2, rtol=1e-05, atol=1e-08): {np.allclose(array1, array2)}\")\n",
        "\n",
        "# Demonstrating other requested functions\n",
        "print(\"\\nDemonstrating other functions:\")\n",
        "# Creating arrays with zeros and ones\n",
        "zeros_array = np.zeros(5)\n",
        "ones_array = np.ones((2, 3))\n",
        "print(f\"Zeros array: {zeros_array}\")\n",
        "print(f\"Ones array:\\n{ones_array}\")\n",
        "# Creating a linearly spaced array\n",
        "linspace_array = np.linspace(0, 10, 5)\n",
        "print(f\"Linspace array (0 to 10, 5 elements): {linspace_array}\")\n",
        "\n",
        "# Converting a NumPy array to a Python list\n",
        "list_from_array = linspace_array.tolist()\n",
        "print(f\"List from linspace array: {list_from_array}\")"
      ]
    }
  ]
}