{
  "nbformat": 4,
  "nbformat_minor": 0,
  "metadata": {
    "colab": {
      "provenance": [],
      "authorship_tag": "ABX9TyPVLLX39SzRhhLD8v0PrDR4",
      "include_colab_link": true
    },
    "kernelspec": {
      "name": "python3",
      "display_name": "Python 3"
    },
    "language_info": {
      "name": "python"
    }
  },
  "cells": [
    {
      "cell_type": "markdown",
      "metadata": {
        "id": "view-in-github",
        "colab_type": "text"
      },
      "source": [
        "<a href=\"https://colab.research.google.com/github/kamathamashok3-ship-it/IIY_IIIS_PYTHON/blob/main/2_2.ipynb\" target=\"_parent\"><img src=\"https://colab.research.google.com/assets/colab-badge.svg\" alt=\"Open In Colab\"/></a>"
      ]
    },
    {
      "cell_type": "code",
      "execution_count": 1,
      "metadata": {
        "colab": {
          "base_uri": "https://localhost:8080/"
        },
        "id": "XecjaeaaMu58",
        "outputId": "cd4235e1-e920-4441-ce10-dbe6d5e282ed"
      },
      "outputs": [
        {
          "output_type": "stream",
          "name": "stdout",
          "text": [
            "Buddy is eating.\n",
            "Buddy is sleeping.\n",
            "Whiskers is eating.\n",
            "Whiskers is sleeping.\n",
            "Buddy says Woof!\n",
            "Whiskers says Meow!\n"
          ]
        }
      ],
      "source": [
        "class Animal:\n",
        "    def __init__(self, name):\n",
        "        self.name = name\n",
        "    def eat(self):\n",
        "        print(f\"{self.name} is eating.\")\n",
        "    def sleep(self):\n",
        "        print(f\"{self.name} is sleeping.\")\n",
        "\n",
        "class Dog(Animal):\n",
        "    def bark(self):\n",
        "        print(f\"{self.name} says Woof!\")\n",
        "\n",
        "class Cat(Animal):\n",
        "    def meow(self):\n",
        "        print(f\"{self.name} says Meow!\")\n",
        "dog1 = Dog(\"Buddy\")\n",
        "cat1 = Cat(\"Whiskers\")\n",
        "\n",
        "dog1.eat()\n",
        "dog1.sleep()\n",
        "\n",
        "cat1.eat()\n",
        "cat1.sleep()\n",
        "\n",
        "dog1.bark()\n",
        "cat1.meow()"
      ]
    }
  ]
}